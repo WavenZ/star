{
 "cells": [
  {
   "cell_type": "code",
   "execution_count": 1,
   "metadata": {
    "collapsed": true
   },
   "outputs": [],
   "source": [
    "% matplotlib inline\n",
    "import pandas as pd\n",
    "import numpy as np\n",
    "from scipy.stats import entropy\n",
    "from PIL import Image\n",
    "import cv2\n",
    "import matplotlib.pyplot as plt\n",
    "from sklearn.decomposition import PCA\n",
    "from sklearn.cluster import DBSCAN"
   ]
  },
  {
   "cell_type": "code",
   "execution_count": 57,
   "metadata": {
    "collapsed": true
   },
   "outputs": [],
   "source": [
    "def pca(points):\n",
    "    data = np.zeros_like(points).reshape(-1, 2)\n",
    "    data[:, 0] = points[0]\n",
    "    data[:, 1] = points[1]\n",
    "    pca = PCA()   #保留所有成分\n",
    "    pca.fit(data)\n",
    "    print(pca.explained_variance_ratio_)\n",
    "    k = pca.components_[0, 1] / pca.components_[0, 0]\n",
    "    return k\n",
    "def threshold(img):\n",
    "    \"\"\"\n",
    "        阈值化\n",
    "        方法：根据灰度分布直方图，找到窗口中最亮的若干点\n",
    "    \"\"\"\n",
    "    hist = cv2.calcHist([img],[0],None,[256],[0,256])\n",
    "    cnt = 0\n",
    "    th = 0\n",
    "    for k in range(256):\n",
    "        cnt = cnt + hist[255 - k]\n",
    "        if cnt > 200:\n",
    "            th = 255 - k - 1\n",
    "            break\n",
    "    ret, thImg = cv2.threshold(img,th,255,cv2.THRESH_BINARY)\n",
    "    return thImg\n",
    "def Kernel(size, width, theta):\n",
    "    \"\"\"\n",
    "        构造卷积核\n",
    "        \n",
    "    参数：size：卷积核尺寸\n",
    "          width：正区域宽度\n",
    "          theta：角度\n",
    "    注：(size - width)最好是偶数，以使得卷积核对称\n",
    "    \"\"\"\n",
    "    temp = np.zeros((size + 10,size + 10))\n",
    "    temp [(size - width) // 2 + 5:(size - width) // 2 + 5 + width,:] = 1\n",
    "    temp = Image.fromarray(temp)\n",
    "    temp = temp.rotate(theta)\n",
    "    temp = np.array(temp)\n",
    "    kernel = temp[5:-5, 5:-5]\n",
    "    cnt = np.sum(kernel)\n",
    "    print(cnt)\n",
    "    for i in range(size):\n",
    "        for j in range(size):\n",
    "            kernel[i, j] = cnt / (cnt - size * size) if kernel[i, j] == 0 else kernel[i, j]\n",
    "    kernel = kernel / 4\n",
    "    return kernel\n",
    "def Cluster(points):\n",
    "    print(points.shape)\n",
    "    data = points.T\n",
    "    print(data.shape)\n",
    "    # data = np.zeros_like(points).reshape(-1, 2)\n",
    "    # data[:, 0] = points[0]\n",
    "    # data[:, 1] = points[1]\n",
    "    y_pred = DBSCAN(eps = 3, min_samples = 5).fit_predict(data)\n",
    "    plt.figure(figsize = (8, 8))\n",
    "    plt.scatter(data[:, 0], data[:, 1], c=y_pred)\n",
    "    plt.xlim((0, 100))\n",
    "    plt.ylim((0, 100))\n",
    "    plt.show()\n",
    "    return y_pred"
   ]
  },
  {
   "cell_type": "code",
   "execution_count": 58,
   "metadata": {},
   "outputs": [
    {
     "data": {
      "text/plain": [
       "\"\\nCluster(points)\\ntheta = pca(coordins)\\ntheta1 = np.arctan(theta) * 180 / np.pi\\nprint(theta, theta1)\\nkernel = Kernel(11, 3, theta1)\\nplt.figure()\\nplt.imshow(kernel, cmap = 'gray')\\n# plt.imshow(kernel, cmap = 'gray')\\nret = cv2.filter2D(src, -1, kernel)\\nplt.figure()\\nplt.imshow(ret, cmap = 'gray')\\nth = threshold(ret)\\nplt.figure(dpi = 180)\\nplt.imshow(th, cmap = 'gray')\\npoints = np.array(np.where(th == 255))\\ncoordins = np.vstack((points[1], src.shape[0] - points[0]))\\ntheta = pca(coordins)\\ntheta1 = np.arctan(theta) * 180 / np.pi\\nprint(theta, theta1)\\n\""
      ]
     },
     "execution_count": 58,
     "metadata": {},
     "output_type": "execute_result"
    },
    {
     "data": {
      "image/png": "[encoded data removed]",
      "text/plain": [
       "<matplotlib.figure.Figure at 0x1efb8f4f4e0>"
      ]
     },
     "metadata": {},
     "output_type": "display_data"
    }
   ],
   "source": [
    "src = cv2.imread('222.png', 0)\n",
    "src = cv2.blur(src, (3, 3))\n",
    "th = threshold(src)\n",
    "plt.figure(dpi = 120)\n",
    "plt.imshow(th, cmap = 'gray')\n",
    "points = np.array(np.where(th == 255))\n",
    "coordins = np.vstack((points[1], src.shape[0] - points[0]))\n",
    "'''\n",
    "Cluster(points)\n",
    "theta = pca(coordins)\n",
    "theta1 = np.arctan(theta) * 180 / np.pi\n",
    "print(theta, theta1)\n",
    "kernel = Kernel(11, 3, theta1)\n",
    "plt.figure()\n",
    "plt.imshow(kernel, cmap = 'gray')\n",
    "# plt.imshow(kernel, cmap = 'gray')\n",
    "ret = cv2.filter2D(src, -1, kernel)\n",
    "plt.figure()\n",
    "plt.imshow(ret, cmap = 'gray')\n",
    "th = threshold(ret)\n",
    "plt.figure(dpi = 180)\n",
    "plt.imshow(th, cmap = 'gray')\n",
    "points = np.array(np.where(th == 255))\n",
    "coordins = np.vstack((points[1], src.shape[0] - points[0]))\n",
    "theta = pca(coordins)\n",
    "theta1 = np.arctan(theta) * 180 / np.pi\n",
    "print(theta, theta1)\n",
    "'''"
   ]
  },
  {
   "cell_type": "code",
   "execution_count": 59,
   "metadata": {},
   "outputs": [
    {
     "name": "stdout",
     "output_type": "stream",
     "text": [
      "(2, 209)\n",
      "(209, 2)\n"
     ]
    },
    {
     "data": {
      "image/png": "[encoded data removed]",
      "text/plain": [
       "<matplotlib.figure.Figure at 0x1efb8d65198>"
      ]
     },
     "metadata": {},
     "output_type": "display_data"
    }
   ],
   "source": [
    "pred = Cluster(coordins)"
   ]
  },
  {
   "cell_type": "code",
   "execution_count": 153,
   "metadata": {},
   "outputs": [
    {
     "data": {
      "text/plain": [
       "array([-1,  0], dtype=int64)"
      ]
     },
     "execution_count": 153,
     "metadata": {},
     "output_type": "execute_result"
    }
   ],
   "source": [
    "np.unique(pred)"
   ]
  },
  {
   "cell_type": "code",
   "execution_count": 156,
   "metadata": {},
   "outputs": [
    {
     "data": {
      "text/plain": [
       "array([[ 84,  85,  86,  89,  90,  94,  98, 103,  64,  66,  78,  79,  80,\n",
       "         82,  83,  84,  85,  86,  87,  88,  89,  90,  91,  92,  93,  94,\n",
       "         95,  96,  97,  98,  99, 100, 103, 104, 108, 110, 111, 112,  84,\n",
       "         86,  87,  88,  89,  90,  93,  94,  96,  97,  98, 122,  78,  80,\n",
       "         82,  83],\n",
       "       [ 87,  87,  87,  87,  87,  87,  87,  87,  86,  86,  86,  86,  86,\n",
       "         86,  86,  86,  86,  86,  86,  86,  86,  86,  86,  86,  86,  86,\n",
       "         86,  86,  86,  86,  86,  86,  86,  86,  86,  86,  86,  86,  85,\n",
       "         85,  85,  85,  85,  85,  85,  85,  85,  85,  85,  84,  80,  80,\n",
       "         80,  79]], dtype=int64)"
      ]
     },
     "execution_count": 156,
     "metadata": {},
     "output_type": "execute_result"
    }
   ],
   "source": [
    "groups = []\n",
    "for i in np.unique(pred):\n",
    "    cnt = list(pred).count(i)\n",
    "    if cnt > 50:\n",
    "        groups.append(coordins[:, np.where(pred == i)].squeeze(1))\n",
    "groups[0]"
   ]
  },
  {
   "cell_type": "code",
   "execution_count": null,
   "metadata": {
    "collapsed": true
   },
   "outputs": [],
   "source": []
  }
 ],
 "metadata": {
  "kernelspec": {
   "display_name": "Python 3",
   "language": "python",
   "name": "python3"
  },
  "language_info": {
   "codemirror_mode": {
    "name": "ipython",
    "version": 3
   },
   "file_extension": ".py",
   "mimetype": "text/x-python",
   "name": "python",
   "nbconvert_exporter": "python",
   "pygments_lexer": "ipython3",
   "version": "3.6.3"
  }
 },
 "nbformat": 4,
 "nbformat_minor": 2
}
