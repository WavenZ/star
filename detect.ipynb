{
 "cells": [
  {
   "cell_type": "code",
   "execution_count": null,
   "metadata": {
    "collapsed": true
   },
   "outputs": [],
   "source": [
    "import numpy as np\n",
    "import cv2 as cv"
   ]
  },
  {
   "cell_type": "code",
   "execution_count": null,
   "metadata": {
    "collapsed": true
   },
   "outputs": [],
   "source": [
    "DEBUG = 1"
   ]
  },
  {
   "cell_type": "code",
   "execution_count": null,
   "metadata": {
    "collapsed": true
   },
   "outputs": [],
   "source": [
    "def lst_square(x, y):\n",
    "    # inv(x.T * x) * x.T * Y\n",
    "    return np.linalg.inv(np.dot(x.T, x)).dot(x.T).dot(y)\n",
    "    \n",
    "def draw(img, theta):\n",
    "    x = np.linspace(0, 99, 100).astype(np.int64)\n",
    "    y = np.floor(theta[0] * x + theta[1]).astype(np.int64)\n",
    "    img[99 - y[np.where((y > 0) &(y < 100))], x[np.where((y > 0) &(y < 100))]] = 150    "
   ]
  },
  {
   "cell_type": "code",
   "execution_count": 455,
   "metadata": {},
   "outputs": [],
   "source": [
    "def solution(image):\n",
    "    row, col = image.shape\n",
    "    # grayImg = cv.cvtColor(image, cv.COLOR_RGB2GRAY)\n",
    "    blurImg = cv.GaussianBlur(image, (3, 3), 0)\n",
    "    # blurImg = cv.blur(image, (7, 7))\n",
    "    win = 100\n",
    "    num = 0\n",
    "    Theta = np.zeros((100, 1))\n",
    "    for i in range(row // win):\n",
    "        for j in range(col // win):\n",
    "            window = blurImg[i * win : (i + 1) * win, j * win : (j + 1) * win]\n",
    "            mean = np.mean(window)\n",
    "            std = np.std(window)\n",
    "            if mean > 150:\n",
    "                continue\n",
    "            print(mean, std)\n",
    "            edgeImg = cv.Canny(window, 80, 120)\n",
    "            edges = np.where(edgeImg == 255)\n",
    "            if edges[0].size:\n",
    "                x = np.ones((edges[1].size, 2))\n",
    "                x[:, 0] = edges[1]\n",
    "                y = 99 - edges[0].reshape(edges[0].size, 1)\n",
    "                theta = lst_square(x, y)\n",
    "                cv.imshow('img', window)\n",
    "                draw(edgeImg, theta)\n",
    "                cv.imshow('edge', edgeImg)\n",
    "                Theta[num] = np.arctan(theta[0]) * 180 / np.pi\n",
    "                print(Theta[num])  \n",
    "                num = num + 1\n",
    "                if cv.waitKey(0) == 27:\n",
    "                    return\n",
    "            else:\n",
    "                if DEBUG:\n",
    "                    cv.imshow('img', window)\n",
    "                    # cv.imshow('edge', edgeImg)\n",
    "                    if cv.waitKey(0) == 27:\n",
    "                        return\n",
    "                cv.waitKey(1)\n",
    "    # print(Theta)\n",
    "    print(np.mean(Theta[np.where(Theta != 0)]))\n",
    "    "
   ]
  },
  {
   "cell_type": "code",
   "execution_count": null,
   "metadata": {},
   "outputs": [
    {
     "name": "stdout",
     "output_type": "stream",
     "text": [
      "71.0597 8.42694107669\n",
      "[ 26.56505118]\n",
      "82.8635 6.21431152663\n",
      "[ 44.89300045]\n",
      "85.7943 5.4690207085\n",
      "[-52.93624182]\n",
      "86.1993 5.7359898457\n",
      "[-52.29889478]\n",
      "85.723 5.5968447361\n",
      "[ 34.96972421]\n",
      "83.9809 5.47241584586\n",
      "[-29.35775354]\n",
      "82.4994 5.91712765115\n",
      "[-33.94023827]\n",
      "79.9334 5.45823821759\n",
      "[ 0.90650314]\n",
      "78.0053 5.45980511649\n",
      "[-26.56505118]\n",
      "74.9015 5.43118750827\n",
      "72.5986 5.36491174578\n",
      "[-28.04966498]\n",
      "67.9265 5.68789044814\n",
      "[ 11.30993247]\n",
      "81.911 6.56085962356\n",
      "[ 26.56505118]\n",
      "88.1597 5.77191440598\n",
      "[ 30.77781577]\n",
      "88.9534 5.41725284992\n",
      "88.7479 5.29933444783\n",
      "[ 5.74052019]\n",
      "88.5395 5.47240712575\n",
      "[-31.1784397]\n",
      "87.1988 5.49904342227\n",
      "[-66.21795384]\n",
      "85.4317 5.48787163753\n",
      "[-25.08904966]\n",
      "82.5535 5.28939861894\n",
      "[ 6.57150573]\n"
     ]
    }
   ],
   "source": [
    "src = cv.imread('10.png', 0)\n",
    "cv.namedWindow('img', cv.WINDOW_NORMAL)\n",
    "cv.resizeWindow('img', 400, 400)\n",
    "cv.namedWindow('edge', cv.WINDOW_NORMAL)\n",
    "cv.resizeWindow('edge', 400, 400)\n",
    "solution(src)\n",
    "cv.destroyAllWindows()"
   ]
  },
  {
   "cell_type": "code",
   "execution_count": null,
   "metadata": {
    "collapsed": true
   },
   "outputs": [],
   "source": []
  }
 ],
 "metadata": {
  "kernelspec": {
   "display_name": "Python 3",
   "language": "python",
   "name": "python3"
  },
  "language_info": {
   "codemirror_mode": {
    "name": "ipython",
    "version": 3
   },
   "file_extension": ".py",
   "mimetype": "text/x-python",
   "name": "python",
   "nbconvert_exporter": "python",
   "pygments_lexer": "ipython3",
   "version": "3.6.3"
  }
 },
 "nbformat": 4,
 "nbformat_minor": 2
}
