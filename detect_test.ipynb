{
 "cells": [
  {
   "cell_type": "code",
   "execution_count": 80,
   "metadata": {
    "collapsed": true
   },
   "outputs": [],
   "source": [
    "import numpy as np\n",
    "import cv2 as cv\n",
    "import matplotlib.pyplot as plt"
   ]
  },
  {
   "cell_type": "code",
   "execution_count": 86,
   "metadata": {},
   "outputs": [
    {
     "name": "stdout",
     "output_type": "stream",
     "text": [
      "53\n"
     ]
    }
   ],
   "source": [
    "img = cv.imread('1031.png', 0)\n",
    "cv.namedWindow('img', cv.WINDOW_NORMAL)\n",
    "cv.resizeWindow('img', 400, 400)\n",
    "cv.namedWindow('th', cv.WINDOW_NORMAL)\n",
    "cv.resizeWindow('th', 400, 400)\n",
    "cv.namedWindow('edg', cv.WINDOW_NORMAL)\n",
    "cv.resizeWindow('edg', 400, 400)\n",
    "cv.imshow('img', img)\n",
    "# th = -12\n",
    "th = 70\n",
    "img = cv.GaussianBlur(img, (3, 3), 0)\n",
    "hist_cv = cv.calcHist([img],[0],None,[256],[0,256])\n",
    "cnt = 0\n",
    "for i in range(256):\n",
    "    cnt = cnt + hist_cv[255 - i]\n",
    "    if cnt > 50:\n",
    "        th = 255 - i - 1\n",
    "        break\n",
    "# print(hist_cv)\n",
    "while True:\n",
    "    # thImg = cv.adaptiveThreshold(img, 255, cv.ADAPTIVE_THRESH_GAUSSIAN_C,\n",
    "    #                          cv.THRESH_BINARY, 5, th)\n",
    "    ret, thImg = cv.threshold(img,th,255,cv.THRESH_BINARY)\n",
    "    num = np.count_nonzero(thImg)\n",
    "    print(num)\n",
    "    edgeImg = cv.Canny(img, 80, 120)\n",
    "    cv.imshow('th', thImg)\n",
    "    cv.imshow('edg', edgeImg)\n",
    "    key = cv.waitKey(0)\n",
    "    if key == 27:\n",
    "        cv.destroyAllWindows()\n",
    "        break\n",
    "    elif key == 97:\n",
    "        th = th + 1\n",
    "    elif key == 98:\n",
    "        th = th - 1\n",
    "    print(th)"
   ]
  },
  {
   "cell_type": "code",
   "execution_count": null,
   "metadata": {
    "collapsed": true
   },
   "outputs": [],
   "source": []
  }
 ],
 "metadata": {
  "kernelspec": {
   "display_name": "Python 3",
   "language": "python",
   "name": "python3"
  },
  "language_info": {
   "codemirror_mode": {
    "name": "ipython",
    "version": 3
   },
   "file_extension": ".py",
   "mimetype": "text/x-python",
   "name": "python",
   "nbconvert_exporter": "python",
   "pygments_lexer": "ipython3",
   "version": "3.6.3"
  }
 },
 "nbformat": 4,
 "nbformat_minor": 2
}
