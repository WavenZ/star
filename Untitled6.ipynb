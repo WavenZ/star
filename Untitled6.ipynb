{
 "cells": [
  {
   "cell_type": "code",
   "execution_count": 3,
   "metadata": {
    "collapsed": true
   },
   "outputs": [],
   "source": [
    "import numpy as np\n",
    "import matplotlib.pyplot as plt"
   ]
  },
  {
   "cell_type": "code",
   "execution_count": 10,
   "metadata": {},
   "outputs": [],
   "source": [
    "points = np.array([[2.5, 0.5, 2.2, 1.9, 3.1, 2.3, 2, 1, 1.5, 1.1],\n",
    "                   [2.4, 0.7, 2.9, 2.2, 3.0, 2.7, 1.6, 1.1, 1.6, 0.9]])"
   ]
  },
  {
   "cell_type": "code",
   "execution_count": 11,
   "metadata": {},
   "outputs": [
    {
     "data": {
      "image/png": "[encoded data removed]",
      "text/plain": [
       "<matplotlib.figure.Figure at 0x2527cad66d8>"
      ]
     },
     "metadata": {},
     "output_type": "display_data"
    }
   ],
   "source": [
    "plt.scatter(points[0], points[1])\n",
    "plt.show()"
   ]
  },
  {
   "cell_type": "code",
   "execution_count": 8,
   "metadata": {
    "collapsed": true
   },
   "outputs": [],
   "source": [
    "def lst_square(points):\n",
    "    \"\"\"\n",
    "        最小二乘法\n",
    "        公式：inv(x.T * x) * x.T * Y\n",
    "        备注：方向水平和方向竖直大致分两种情况计算，不然方向竖直时精度很低\n",
    "    \"\"\"\n",
    "    \n",
    "    dx = np.ptp(points[1])\n",
    "    dy = np.ptp(points[0])\n",
    "    # print(dx, dy)\n",
    "    if dx > dy:\n",
    "        x = np.ones((points[1].size, 2))\n",
    "        x[:, 0] = points[1]\n",
    "        # y = 99 - points[0].reshape(points[0].size, 1)\n",
    "        y = points[0].reshape(points[0].size, 1)\n",
    "        return np.linalg.inv(np.dot(x.T, x)).dot(x.T).dot(y)\n",
    "    else:\n",
    "        x = np.ones((points[0].size, 2))\n",
    "        x[:, 0] = points[0]\n",
    "        y = points[1].reshape(points[1].size, 1)\n",
    "        temp = np.linalg.inv(np.dot(x.T, x)).dot(x.T).dot(y)\n",
    "        # print(temp)\n",
    "        return [1 / temp[0], - temp[1] / temp[0]]\n",
    "        # return [1 / temp[0], - temp[1] / temp[0]]\n",
    "        "
   ]
  },
  {
   "cell_type": "code",
   "execution_count": 12,
   "metadata": {},
   "outputs": [
    {
     "data": {
      "text/plain": [
       "[array([ 1.00180538]), array([-0.10344828])]"
      ]
     },
     "execution_count": 12,
     "metadata": {},
     "output_type": "execute_result"
    }
   ],
   "source": [
    "k = lst_square(points)\n",
    "k"
   ]
  },
  {
   "cell_type": "code",
   "execution_count": 15,
   "metadata": {},
   "outputs": [
    {
     "data": {
      "image/png": "[encoded data removed]",
      "text/plain": [
       "<matplotlib.figure.Figure at 0x2527d39ada0>"
      ]
     },
     "metadata": {},
     "output_type": "display_data"
    }
   ],
   "source": [
    "x = np.linspace(0, 5, 100)\n",
    "y = k[0] * x + k[1]\n",
    "plt.scatter(points[0], points[1])\n",
    "plt.plot(x, y)\n",
    "plt.show()"
   ]
  },
  {
   "cell_type": "code",
   "execution_count": null,
   "metadata": {
    "collapsed": true
   },
   "outputs": [],
   "source": []
  }
 ],
 "metadata": {
  "kernelspec": {
   "display_name": "Python opencv",
   "language": "python",
   "name": "root"
  },
  "language_info": {
   "codemirror_mode": {
    "name": "ipython",
    "version": 3
   },
   "file_extension": ".py",
   "mimetype": "text/x-python",
   "name": "python",
   "nbconvert_exporter": "python",
   "pygments_lexer": "ipython3",
   "version": "3.6.3"
  }
 },
 "nbformat": 4,
 "nbformat_minor": 2
}
