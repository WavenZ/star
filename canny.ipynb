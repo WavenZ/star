{
 "cells": [
  {
   "cell_type": "code",
   "execution_count": 36,
   "metadata": {},
   "outputs": [],
   "source": [
    "import cv2 as cv\n",
    "import numpy as np\n",
    "import datetime"
   ]
  },
  {
   "cell_type": "code",
   "execution_count": 38,
   "metadata": {},
   "outputs": [
    {
     "name": "stdout",
     "output_type": "stream",
     "text": [
      "1280 960 3\n",
      "65.812656\n",
      "0:00:00.005933\n"
     ]
    },
    {
     "data": {
      "text/plain": [
       "27"
      ]
     },
     "execution_count": 38,
     "metadata": {},
     "output_type": "execute_result"
    }
   ],
   "source": [
    "def edge_demo(image):\n",
    "    # blurred = cv.GaussianBlur(image, (3, 3), 0)\n",
    "    blurred = cv.blur(image, (3, 3))\n",
    "    cv.imshow('blur', blurred)\n",
    "    gray = cv.cvtColor(blurred, cv.COLOR_RGB2GRAY)\n",
    "    mean = np.mean(gray)\n",
    "    print(mean)\n",
    "    # xgrad = cv.Sobel(gray, cv.CV_16SC1, 1, 0) #x方向梯度\n",
    "    # ygrad = cv.Sobel(gray, cv.CV_16SC1, 0, 1) #y方向梯度\n",
    "    # edge_output = cv.Canny(xgrad, ygrad, 50, 150)\n",
    "    starttime = datetime.datetime.now()\n",
    "    edge_output = cv.Canny(gray, mean / 2, mean)\n",
    "    endtime = datetime.datetime.now()\n",
    "    print((endtime - starttime))\n",
    "    cv.imshow('imEdge', edge_output)\n",
    "src = cv.imread('10.png')\n",
    "height, width, channels = src.shape\n",
    "print(width, height, channels)\n",
    "# image = src[np.floor(width / 2):,: np.floor(height / 2), :]\n",
    "image = src[:250, :250, :]\n",
    "cv.imshow('imOrigin', image)\n",
    "edge_demo(image)\n",
    "cv.waitKey(0)"
   ]
  },
  {
   "cell_type": "code",
   "execution_count": null,
   "metadata": {
    "collapsed": true
   },
   "outputs": [],
   "source": []
  }
 ],
 "metadata": {
  "kernelspec": {
   "display_name": "Python 3",
   "language": "python",
   "name": "python3"
  },
  "language_info": {
   "codemirror_mode": {
    "name": "ipython",
    "version": 3
   },
   "file_extension": ".py",
   "mimetype": "text/x-python",
   "name": "python",
   "nbconvert_exporter": "python",
   "pygments_lexer": "ipython3",
   "version": "3.6.3"
  }
 },
 "nbformat": 4,
 "nbformat_minor": 2
}
