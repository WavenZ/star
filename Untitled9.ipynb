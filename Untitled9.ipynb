{
 "cells": [
  {
   "cell_type": "code",
   "execution_count": 15,
   "metadata": {
    "collapsed": true
   },
   "outputs": [],
   "source": [
    "# import cv2 as cv\n",
    "import numpy as np\n",
    " \n",
    " \n",
    "def edge(img):\n",
    "    #高斯模糊,降低噪声\n",
    "    blurred = cv.GaussianBlur(img,(3,3),0)\n",
    "    #灰度图像\n",
    "    gray=cv.cvtColor(blurred,cv.COLOR_RGB2GRAY)\n",
    "    #图像梯度\n",
    "    xgrad=cv.Sobel(gray,cv.CV_16SC1,1,0)\n",
    "    ygrad=cv.Sobel(gray,cv.CV_16SC1,0,1)\n",
    "    #计算边缘\n",
    "    #50和150参数必须符合1：3或者1：2\n",
    "    edge_output=cv.Canny(xgrad,ygrad,40,60)\n",
    "    #图一\n",
    "    cv.imshow(\"edge\",edge_output)\n",
    "    # cv.imshow(\"edge1\",ygrad / np.max(ygrad))\n",
    "    # cv.imshow(\"edge2\",(ygrad + xgrad) / np.max(xgrad + ygrad))\n",
    "    dst=cv.bitwise_and(img,img,mask=edge_output)\n",
    "    #图二（彩色）\n",
    "    cv.imshow('cedge',dst)\n",
    " \n",
    "src=cv.imread('0.png')\n",
    "#图三（原图）\n",
    "cv.imshow('def',src)\n",
    "edge(src)\n",
    "cv.waitKey(0)\n",
    "cv.destroyAllWindows()"
   ]
  },
  {
   "cell_type": "code",
   "execution_count": null,
   "metadata": {
    "collapsed": true
   },
   "outputs": [],
   "source": []
  }
 ],
 "metadata": {
  "kernelspec": {
   "display_name": "Python 3",
   "language": "python",
   "name": "python3"
  },
  "language_info": {
   "codemirror_mode": {
    "name": "ipython",
    "version": 3
   },
   "file_extension": ".py",
   "mimetype": "text/x-python",
   "name": "python",
   "nbconvert_exporter": "python",
   "pygments_lexer": "ipython3",
   "version": "3.6.3"
  }
 },
 "nbformat": 4,
 "nbformat_minor": 2
}
