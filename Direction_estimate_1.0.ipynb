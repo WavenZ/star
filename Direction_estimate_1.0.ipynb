{
 "cells": [
  {
   "cell_type": "code",
   "execution_count": 4,
   "metadata": {},
   "outputs": [
    {
     "ename": "ModuleNotFoundError",
     "evalue": "No module named 'cv2'",
     "output_type": "error",
     "traceback": [
      "\u001b[1;31m---------------------------------------------------------------------------\u001b[0m",
      "\u001b[1;31mModuleNotFoundError\u001b[0m                       Traceback (most recent call last)",
      "\u001b[1;32m<ipython-input-4-8cf8868fb6c4>\u001b[0m in \u001b[0;36m<module>\u001b[1;34m()\u001b[0m\n\u001b[0;32m      1\u001b[0m \u001b[1;32mimport\u001b[0m \u001b[0mnumpy\u001b[0m \u001b[1;32mas\u001b[0m \u001b[0mnp\u001b[0m\u001b[1;33m\u001b[0m\u001b[0m\n\u001b[1;32m----> 2\u001b[1;33m \u001b[1;32mimport\u001b[0m \u001b[0mcv2\u001b[0m \u001b[1;32mas\u001b[0m \u001b[0mcv\u001b[0m\u001b[1;33m\u001b[0m\u001b[0m\n\u001b[0m",
      "\u001b[1;31mModuleNotFoundError\u001b[0m: No module named 'cv2'"
     ]
    }
   ],
   "source": [
    "import numpy as np\n",
    "import cv2 as cv"
   ]
  },
  {
   "cell_type": "code",
   "execution_count": 2,
   "metadata": {
    "collapsed": true
   },
   "outputs": [],
   "source": [
    "DEBUG = 0\n",
    "win = 100"
   ]
  },
  {
   "cell_type": "code",
   "execution_count": 3,
   "metadata": {
    "collapsed": true
   },
   "outputs": [],
   "source": [
    "def win_init():\n",
    "    cv.namedWindow('img', cv.WINDOW_NORMAL)\n",
    "    cv.resizeWindow('img', 400, 400)\n",
    "    cv.namedWindow('th', cv.WINDOW_NORMAL) \n",
    "    cv.resizeWindow('th', 400, 400)\n",
    "    cv.namedWindow('draw', cv.WINDOW_NORMAL)\n",
    "    cv.resizeWindow('draw', 400, 400)\n",
    "def lst_square(points):\n",
    "    # inv(x.T * x) * x.T * Y\n",
    "    dx = np.ptp(points[1])\n",
    "    dy = np.ptp(points[0])\n",
    "    # print(dx, dy)\n",
    "    if dx > dy:\n",
    "        x = np.ones((points[1].size, 2))\n",
    "        x[:, 0] = points[1]\n",
    "        # y = 99 - points[0].reshape(points[0].size, 1)\n",
    "        y = points[0].reshape(points[0].size, 1)\n",
    "        return np.linalg.inv(np.dot(x.T, x)).dot(x.T).dot(y)\n",
    "    else:\n",
    "        x = np.ones((points[0].size, 2))\n",
    "        x[:, 0] = points[0]\n",
    "        y = points[1].reshape(points[1].size, 1)\n",
    "        temp = np.linalg.inv(np.dot(x.T, x)).dot(x.T).dot(y)\n",
    "        # print(temp)\n",
    "        return [1 / temp[0], - temp[1] / temp[0]]\n",
    "        # return [1 / temp[0], - temp[1] / temp[0]]\n",
    "    \n",
    "def draw(img, theta):\n",
    "    x = np.linspace(0, 99, 100).astype(np.int64)\n",
    "    y = np.floor(theta[0] * x + theta[1]).astype(np.int64)\n",
    "    img[99 - y[np.where((y > 0) &(y < 100))], x[np.where((y > 0) &(y < 100))]] = 150 \n",
    "    \n",
    "def threshold(img):\n",
    "    hist = cv.calcHist([img],[0],None,[256],[0,256])\n",
    "    cnt = 0\n",
    "    th = 0\n",
    "    for k in range(256):\n",
    "        cnt = cnt + hist[255 - k]\n",
    "        if cnt > 20:\n",
    "            th = 255 - k - 1\n",
    "            break\n",
    "    ret, thImg = cv.threshold(img,th,255,cv.THRESH_BINARY)\n",
    "    return thImg\n",
    "\n",
    "def collinear_rate(points, theta):\n",
    "    div = np.linalg.norm([theta[0], 1])\n",
    "    D = np.abs(theta[0] * points[1] - points[0] + theta[1])\n",
    "    \n",
    "    ret = np.mean(D / div)\n",
    "    return ret\n",
    "    "
   ]
  },
  {
   "cell_type": "code",
   "execution_count": 18,
   "metadata": {
    "collapsed": true
   },
   "outputs": [],
   "source": [
    "def solution(image):\n",
    "    row, col = image.shape\n",
    "    blurImg = cv.GaussianBlur(image, (3, 3), 0)\n",
    "    Theta = list([])\n",
    "    \n",
    "    for i in range(row // win):\n",
    "        for j in range(col // win):\n",
    "            drawImg = np.zeros((100, 100))\n",
    "            window = blurImg[i * win : (i + 1) * win, j * win : (j + 1) * win]\n",
    "            mean = np.mean(window)\n",
    "            std = np.std(window)\n",
    "            if mean > 180:\n",
    "                continue\n",
    "            thImg = threshold(window)\n",
    "            points = np.array(np.where(thImg == 255))\n",
    "            # 1. del outlier\n",
    "            mean_x = int(np.mean(points[1]))\n",
    "            mean_y = int(np.mean(points[0]))\n",
    "            thImg[mean_y, mean_x] = 100\n",
    "            dx = np.abs(points[1] - mean_x)\n",
    "            dy = np.abs(points[0] - mean_y)\n",
    "            points = points[:, np.where(dx + dy < 50)].reshape(2, -1)\n",
    "            if points[0].size < 2:\n",
    "                continue\n",
    "            mean_x = int(np.mean(points[1]))\n",
    "            mean_y = int(np.mean(points[0]))\n",
    "            thImg[mean_y, mean_x] = 100\n",
    "            dx = np.abs(points[1] - mean_x)\n",
    "            dy = np.abs(points[0] - mean_y)\n",
    "            points = points[:, np.where(dx + dy < 30)]\n",
    "            if points[0].size < 2:\n",
    "                continue\n",
    "            # 2. Check for discreteness\n",
    "            std_x = np.std(points[1])\n",
    "            std_y = np.std(points[0])\n",
    "        \n",
    "            if std_x + std_y > 30 or std_x * std_y > 50:\n",
    "                continue\n",
    "            # print(points)\n",
    "            # print(std_x + std_y, '   ', std_x * std_y)\n",
    "            \n",
    "            # 3. least square fit\n",
    "            if points[0].size < 10:\n",
    "                continue\n",
    "            # print(points.shape)\n",
    "            points[0] = 99 - points[0]\n",
    "            theta = lst_square(points)\n",
    "            \n",
    "            # 4. Check for linearity\n",
    "            nonlinear = collinear_rate(points, theta)\n",
    "            if nonlinear > 0.8:\n",
    "                continue\n",
    "            # print(nonlinear)\n",
    "            \n",
    "            if DEBUG:\n",
    "                draw(drawImg, theta)\n",
    "                cv.imshow('img', window)\n",
    "                cv.imshow('th', thImg)\n",
    "                cv.imshow('draw', drawImg)\n",
    "                print('a = ', theta[0], 'b = ', theta[1])\n",
    "                print('---------------------------------------')\n",
    "                key = cv.waitKey(0)\n",
    "            else:\n",
    "                key = cv.waitKey(1)\n",
    "                \n",
    "            # 5. Add theta to Theta\n",
    "            theta = np.arctan(theta[0]) * 180 / np.pi\n",
    "            Theta.append(theta)\n",
    "            # print(theta[0])\n",
    "                        \n",
    "            \n",
    "            if key == 27:\n",
    "                cv.destroyAllWindows()\n",
    "                return\n",
    "    # 7. del outlier\n",
    "    Theta.sort()\n",
    "    std = np.std(Theta)\n",
    "    while std > 0.6:\n",
    "        a = Theta[1:]\n",
    "        b = Theta[:-1]\n",
    "        Theta = a if np.std(a) < np.std(b) else b\n",
    "        std = np.std(Theta)\n",
    "    if len(Theta) > 0:\n",
    "        print('theta:', np.mean(Theta))\n",
    "        if DEBUG:\n",
    "            print('Theta:', Theta)\n",
    "            \n",
    "    cv.destroyAllWindows()"
   ]
  },
  {
   "cell_type": "code",
   "execution_count": 25,
   "metadata": {
    "scrolled": true
   },
   "outputs": [
    {
     "name": "stdout",
     "output_type": "stream",
     "text": [
      "a =  [-0.02330854] b =  [ 27.74677192]\n",
      "---------------------------------------\n",
      "a =  [-0.01712226] b =  [ 50.68218684]\n",
      "---------------------------------------\n"
     ]
    }
   ],
   "source": [
    "DEBUG = 1\n",
    "src = cv.imread('0.png', 0)\n",
    "if DEBUG:\n",
    "    win_init()\n",
    "solution(src)\n",
    "cv.destroyAllWindows()"
   ]
  },
  {
   "cell_type": "code",
   "execution_count": null,
   "metadata": {
    "collapsed": true
   },
   "outputs": [],
   "source": []
  },
  {
   "cell_type": "code",
   "execution_count": null,
   "metadata": {
    "collapsed": true
   },
   "outputs": [],
   "source": []
  },
  {
   "cell_type": "code",
   "execution_count": null,
   "metadata": {
    "collapsed": true
   },
   "outputs": [],
   "source": []
  }
 ],
 "metadata": {
  "kernelspec": {
   "display_name": "Python 3",
   "language": "python",
   "name": "python3"
  },
  "language_info": {
   "codemirror_mode": {
    "name": "ipython",
    "version": 3
   },
   "file_extension": ".py",
   "mimetype": "text/x-python",
   "name": "python",
   "nbconvert_exporter": "python",
   "pygments_lexer": "ipython3",
   "version": "3.6.3"
  }
 },
 "nbformat": 4,
 "nbformat_minor": 2
}
